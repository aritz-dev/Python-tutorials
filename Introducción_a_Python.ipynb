{
 "cells": [
  {
   "cell_type": "markdown",
   "id": "197c9fdc",
   "metadata": {},
   "source": [
    "# Introducción a Python\n",
    "- https://developers.google.com/edu/python/introduction?hl=es-419"
   ]
  },
  {
   "cell_type": "code",
   "execution_count": 36,
   "id": "d7bf55bc",
   "metadata": {},
   "outputs": [
    {
     "name": "stdout",
     "output_type": "stream",
     "text": [
      "6\n",
      "8\n",
      "hi\n",
      "2\n",
      "hi2\n"
     ]
    }
   ],
   "source": [
    "a=6\n",
    "print(a)\n",
    "print(a + 2)\n",
    "a=\"hi\"\n",
    "print(a)\n",
    "print(len(a))\n",
    "print(a + str(len(a))) # str() para convertir a string"
   ]
  },
  {
   "cell_type": "code",
   "execution_count": 37,
   "id": "4debcff4",
   "metadata": {},
   "outputs": [
    {
     "data": {
      "text/plain": [
       "'oh oh oh !!!'"
      ]
     },
     "execution_count": 37,
     "metadata": {},
     "output_type": "execute_result"
    }
   ],
   "source": [
    "def repeat(s:str,exclaim:bool)->str:\n",
    "    result=s*3 # igual a s+s+s, por que?\n",
    "    if exclaim:\n",
    "        result+=\"!!!\"\n",
    "    return result\n",
    "\n",
    "repeat(\"oh \",True)"
   ]
  },
  {
   "cell_type": "code",
   "execution_count": 38,
   "id": "98f3edea",
   "metadata": {},
   "outputs": [
    {
     "data": {
      "text/plain": [
       "['c:\\\\Users\\\\a2167\\\\AppData\\\\Local\\\\Programs\\\\Python\\\\Python313\\\\python313.zip',\n",
       " 'c:\\\\Users\\\\a2167\\\\AppData\\\\Local\\\\Programs\\\\Python\\\\Python313\\\\DLLs',\n",
       " 'c:\\\\Users\\\\a2167\\\\AppData\\\\Local\\\\Programs\\\\Python\\\\Python313\\\\Lib',\n",
       " 'c:\\\\Users\\\\a2167\\\\AppData\\\\Local\\\\Programs\\\\Python\\\\Python313',\n",
       " '',\n",
       " 'C:\\\\Users\\\\a2167\\\\AppData\\\\Roaming\\\\Python\\\\Python313\\\\site-packages',\n",
       " 'C:\\\\Users\\\\a2167\\\\AppData\\\\Roaming\\\\Python\\\\Python313\\\\site-packages\\\\win32',\n",
       " 'C:\\\\Users\\\\a2167\\\\AppData\\\\Roaming\\\\Python\\\\Python313\\\\site-packages\\\\win32\\\\lib',\n",
       " 'C:\\\\Users\\\\a2167\\\\AppData\\\\Roaming\\\\Python\\\\Python313\\\\site-packages\\\\Pythonwin',\n",
       " 'c:\\\\Users\\\\a2167\\\\AppData\\\\Local\\\\Programs\\\\Python\\\\Python313\\\\Lib\\\\site-packages']"
      ]
     },
     "execution_count": 38,
     "metadata": {},
     "output_type": "execute_result"
    }
   ],
   "source": [
    "import sys #Acceso a exit(), argv, stdin, stdout, …\n",
    "import re #expresiones regulares\n",
    "import os # Interfaz del sistema operativo, sistema de archivos\n",
    "\n",
    "# http://docs.python.org/library.\n",
    "sys.path"
   ]
  },
  {
   "cell_type": "code",
   "execution_count": 39,
   "id": "11da487b",
   "metadata": {},
   "outputs": [
    {
     "name": "stdout",
     "output_type": "stream",
     "text": [
      "Help on built-in function len in module builtins:\n",
      "\n",
      "len(obj, /)\n",
      "    Return the number of items in a container.\n",
      "\n"
     ]
    },
    {
     "data": {
      "text/plain": [
       "['__call__',\n",
       " '__class__',\n",
       " '__delattr__',\n",
       " '__dir__',\n",
       " '__doc__',\n",
       " '__eq__',\n",
       " '__format__',\n",
       " '__ge__',\n",
       " '__getattribute__',\n",
       " '__getstate__',\n",
       " '__gt__',\n",
       " '__hash__',\n",
       " '__init__',\n",
       " '__init_subclass__',\n",
       " '__le__',\n",
       " '__lt__',\n",
       " '__module__',\n",
       " '__name__',\n",
       " '__ne__',\n",
       " '__new__',\n",
       " '__qualname__',\n",
       " '__reduce__',\n",
       " '__reduce_ex__',\n",
       " '__repr__',\n",
       " '__self__',\n",
       " '__setattr__',\n",
       " '__sizeof__',\n",
       " '__str__',\n",
       " '__subclasshook__',\n",
       " '__text_signature__']"
      ]
     },
     "execution_count": 39,
     "metadata": {},
     "output_type": "execute_result"
    }
   ],
   "source": [
    "help(len)\n",
    "dir(len)"
   ]
  }
 ],
 "metadata": {
  "kernelspec": {
   "display_name": "Python 3",
   "language": "python",
   "name": "python3"
  },
  "language_info": {
   "codemirror_mode": {
    "name": "ipython",
    "version": 3
   },
   "file_extension": ".py",
   "mimetype": "text/x-python",
   "name": "python",
   "nbconvert_exporter": "python",
   "pygments_lexer": "ipython3",
   "version": "3.13.7"
  }
 },
 "nbformat": 4,
 "nbformat_minor": 5
}
