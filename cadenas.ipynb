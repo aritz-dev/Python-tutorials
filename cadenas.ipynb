{
 "cells": [
  {
   "cell_type": "markdown",
   "id": "142b0709",
   "metadata": {},
   "source": [
    "## Cadenas\n",
    "- Búsqueda en Google de “python str” te debería redireccionar a los métodos de cadena de python.org oficiales, que enumeran todos los métodos str."
   ]
  },
  {
   "cell_type": "code",
   "execution_count": 12,
   "id": "156e76dd",
   "metadata": {},
   "outputs": [
    {
     "name": "stdout",
     "output_type": "stream",
     "text": [
      "   HOLAA   HOLAA\n",
      "   holaa   holaa\n",
      "Holaa   holaa\n",
      "False\n",
      "False\n",
      "False\n",
      "False\n",
      "True\n",
      "11\n",
      "   Holaa   aa\n",
      "['Holaa', 'holaa']\n",
      "-\n",
      " - - -H-o-l-a-a- - - -h-o-l-a-a\n"
     ]
    }
   ],
   "source": [
    "s=\"   Holaa   holaa\"\n",
    "print(s.upper())            # muestra la versión de la cadena en mayúsculas.\n",
    "print(s.lower())            # muestra la versión de la cadena en minúsculas.\n",
    "print(s.strip())            # muestra una cadena sin espacios en blanco del principio y del final.\n",
    "print(s.isalpha())          # comprueba si todos los caracteres de la cadena están en las distintas clases de caracteres.\n",
    "print(s.isdigit())\n",
    "print(s.isspace())\n",
    "print(s.startswith(\"Hola\")) # Comprueba si la cadena comienza o termina con la otra cadena dada.\n",
    "print(s.endswith(\"holaa\"))\n",
    "print(s.find(\"hola\"))       #  Busca dentro de s y muestra el primer índice donde comienza o -1 si no se encuentra.\n",
    "print(s.replace(\"hol\", \"\")) # muestra una cadena donde aparecen todas las apariciones de \"old\" se reemplazó por 'nuevo'\n",
    "print(s.split())            # puedes definir el delimitador\n",
    "print(s.join(\"-\"))\n",
    "print(\"-\".join(s))\n"
   ]
  },
  {
   "cell_type": "markdown",
   "id": "fe50295f",
   "metadata": {},
   "source": [
    "Una cadena literal con formato tiene el prefijo \"f\" (como el prefijo 'r' que se usa para cadenas sin procesar). Cualquier texto fuera de las llaves \"{}\" se imprime directamente. Expresiones contenidas en \"{}\" son se imprimen con la especificación de formato descrita en [la especificación de formato](https://docs.python.org/3/library/string.html#formatspec). Hay muchas cosas buenas que se pueden hacer con el formateo, incluidos el truncamiento y conversión a notación científica y alineación horizontal, izquierda y derecha."
   ]
  },
  {
   "cell_type": "code",
   "execution_count": 19,
   "id": "288334e6",
   "metadata": {},
   "outputs": [
    {
     "name": "stdout",
     "output_type": "stream",
     "text": [
      "aprox valuer= 2.33\n",
      "car= {'tires': 4, 'doors': 2}\n"
     ]
    }
   ],
   "source": [
    "value= 2.3333\n",
    "print(f\"aprox valuer= {value:.2f}\")\n",
    "\n",
    "car={\n",
    "    \"tires\":4,\n",
    "    \"doors\":2\n",
    "}\n",
    "print(f\"car= {car}\")"
   ]
  },
  {
   "cell_type": "markdown",
   "id": "8dca5999",
   "metadata": {},
   "source": [
    "Las cadenas f son muy útiles cuando quieres imprimir una tabla de objetos y quieres las columnas que representan los diferentes atributos del objeto que se deben alinear, como"
   ]
  },
  {
   "cell_type": "code",
   "execution_count": 25,
   "id": "b84b0283",
   "metadata": {},
   "outputs": [
    {
     "name": "stdout",
     "output_type": "stream",
     "text": [
      "Na.X.           || 15 Jones St     || 70\n",
      "Jaa.P.          || 1005 5th St     || 400\n",
      "Aaaa.A.         || 200001 Bdwy     ||  5\n"
     ]
    }
   ],
   "source": [
    "address_book = [{'name':'Na.X.', 'addr':'15 Jones St', 'bonus': 70},\n",
    "      {'name':'Jaa.P.', 'addr':'1005 5th St', 'bonus': 400},\n",
    "      {'name':'Aaaa.A.', 'addr':'200001 Bdwy', 'bonus': 5},]\n",
    "\n",
    "for person in address_book:\n",
    "    print(f'{person[\"name\"]:15} || {person[\"addr\"]:15} || {person[\"bonus\"]:>2}')"
   ]
  }
 ],
 "metadata": {
  "kernelspec": {
   "display_name": "Python 3",
   "language": "python",
   "name": "python3"
  },
  "language_info": {
   "codemirror_mode": {
    "name": "ipython",
    "version": 3
   },
   "file_extension": ".py",
   "mimetype": "text/x-python",
   "name": "python",
   "nbconvert_exporter": "python",
   "pygments_lexer": "ipython3",
   "version": "3.13.7"
  }
 },
 "nbformat": 4,
 "nbformat_minor": 5
}
